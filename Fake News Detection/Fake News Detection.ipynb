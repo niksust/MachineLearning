{
 "cells": [
  {
   "cell_type": "code",
   "execution_count": 1,
   "metadata": {},
   "outputs": [],
   "source": [
    "# This file create and Vectorize and out result with training\n",
    "\n",
    "from sklearn.metrics import f1_score, confusion_matrix, accuracy_score\n",
    "from sklearn.feature_extraction.text import CountVectorizer\n",
    "from sklearn import svm\n",
    "from sklearn.linear_model import LogisticRegression\n",
    "from sklearn.neighbors import KNeighborsClassifier\n",
    "from sklearn.neural_network import MLPClassifier\n",
    "from sklearn.naive_bayes import GaussianNB\n",
    "from sklearn.naive_bayes import MultinomialNB\n",
    "import numpy as np\n",
    "import time\n",
    "start_time = time.time()\n"
   ]
  },
  {
   "cell_type": "code",
   "execution_count": 2,
   "metadata": {},
   "outputs": [],
   "source": [
    "def TrainX(vec):\n",
    "    fin = open(\"datasetML.txt\")\n",
    "    corpus = []\n",
    "    text = fin.readline()\n",
    "\n",
    "    while text:\n",
    "        corpus.append(text.strip())\n",
    "        text = fin.readline()\n",
    "    fin.close()\n",
    "    print(len(corpus))\n",
    "    return vec.fit_transform(corpus)"
   ]
  },
  {
   "cell_type": "code",
   "execution_count": 3,
   "metadata": {},
   "outputs": [],
   "source": [
    "def TrainY():\n",
    "    trainY = []\n",
    "    fin = open(\"resultML.txt\")\n",
    "\n",
    "    yval = fin.readline()\n",
    "    while yval:\n",
    "        trainY.append(int(yval))\n",
    "        yval = fin.readline()\n",
    "\n",
    "    return np.asarray(trainY)\n"
   ]
  },
  {
   "cell_type": "code",
   "execution_count": 4,
   "metadata": {},
   "outputs": [],
   "source": [
    "def SVM(trainX,trainY,testX): #Support Vector Machine\n",
    "    model = svm.SVC(kernel=\"linear\")\n",
    "    model.fit(trainX, trainY)\n",
    "    result = []\n",
    "    for i in testX:\n",
    "        result.append(model.predict(i))\n",
    "\n",
    "    return np.asarray(result)"
   ]
  },
  {
   "cell_type": "code",
   "execution_count": 5,
   "metadata": {},
   "outputs": [],
   "source": [
    "def LR(trainX, trainY, testX, testY):#Logistic Regression\n",
    "    clf = LogisticRegression(fit_intercept=True, C = 1e15)\n",
    "    clf.fit(trainX, trainY)\n",
    "\n",
    "    print ('Accuracy from logistic regression: {0}'.format(clf.score(testX, testY)))\n",
    "\n",
    "    print (clf.intercept_, clf.coef_)\n",
    "    # print (weights)"
   ]
  },
  {
   "cell_type": "code",
   "execution_count": 6,
   "metadata": {},
   "outputs": [],
   "source": [
    "def KNC(trainX, trainY, testX, testY): #K Neighbors Classifier\n",
    "    knn = KNeighborsClassifier(algorithm='auto', leaf_size=30, metric='minkowski',\n",
    "           metric_params=None, n_jobs=1, n_neighbors=1, p=2,\n",
    "           weights='distance')\n",
    "    knn.fit(trainX, trainY)\n",
    "    # print(knn.predict(testX))\n",
    "    #print(knn.predict_proba(testX))\n",
    "#    print(knn.predict_proba(data)[:, 1])\n",
    "    print('accuracy for KNN:{0}'.format(knn.score(testX, testY)))"
   ]
  },
  {
   "cell_type": "code",
   "execution_count": 7,
   "metadata": {},
   "outputs": [],
   "source": [
    "def MLP(trainX, trainY, testX, testY): #Multi Layer Perceptron\n",
    "    clf = MLPClassifier(solver='lbfgs', alpha=1e-5, hidden_layer_sizes=(12, ), random_state=1)\n",
    "    clf.fit(trainX, trainY)\n",
    "    clf.predict(testX)\n",
    "    #print clf.predict_proba(testX)\n",
    "    print 'accuracy for MLP:{0}'.format(clf.score(testX, testY))"
   ]
  },
  {
   "cell_type": "code",
   "execution_count": 8,
   "metadata": {},
   "outputs": [],
   "source": [
    "def Naive(trainX, trainY, testX, testY):\n",
    "    clf = MultinomialNB()\n",
    "    clf.fit(trainX, trainY)\n",
    "    clf.predict(testX)\n",
    "    #print clf.predict_proba(testX)\n",
    "    print 'accuracy for Naive:{0}'.format(clf.score(testX, testY))"
   ]
  },
  {
   "cell_type": "code",
   "execution_count": 9,
   "metadata": {},
   "outputs": [
    {
     "name": "stdout",
     "output_type": "stream",
     "text": [
      "21607\n",
      "(21607, 2085668)\n",
      "Accuracy SVM =  0.6213713826694548\n",
      "--- 1103.339724064 seconds ---\n",
      "Accuracy from logistic regression: 0.599362472586\n",
      "(array([5.04209367]), array([[ 0.04557314,  0.        ,  0.        , ..., -0.10976948,\n",
      "        -0.10976948, -0.10976948]]))\n",
      "--- 1250.072360039 seconds ---\n",
      "accuracy for KNN:0.595404345387\n",
      "--- 126.874758959 seconds ---\n",
      "accuracy for Naive:0.684904981384\n",
      "--- 127.124699116 seconds ---\n"
     ]
    }
   ],
   "source": [
    "if __name__ == '__main__':\n",
    "    vec = CountVectorizer(tokenizer=lambda x: x.split(),ngram_range=(1,4) )\n",
    "    dataX = TrainX(vec)\n",
    "    dataY = TrainY()\n",
    "\n",
    "    print(dataX.shape)\n",
    "    x = dataX[:2000]\n",
    "    y = dataY[:2000]\n",
    "    tx = dataX[2000:]\n",
    "    ty = dataY[2000:]\n",
    "    predictedResult = SVM(x,y,tx)\n",
    "\n",
    "    #print(f1_score(ty,predictedResult))\n",
    "\n",
    "    cm = confusion_matrix(ty,predictedResult)\n",
    "    accu = accuracy_score(ty,predictedResult)\n",
    "\n",
    "   # print(cm)\n",
    "    print \"Accuracy SVM = \", accu\n",
    "    print \"--- %s seconds ---\" % (time.time() - start_time)\n",
    "\n",
    "    predict2= LR(x, y, tx, ty)\n",
    "\n",
    "    print \"--- %s seconds ---\" % (time.time() - start_time)\n",
    "    \n",
    "    KNC(x, y, tx, ty)\n",
    "    print \"--- %s seconds ---\" % (time.time() - start_time)\n",
    "\n",
    "    Naive(x, y, tx, ty)\n",
    "    print \"--- %s seconds ---\" % (time.time() - start_time)"
   ]
  },
  {
   "cell_type": "code",
   "execution_count": null,
   "metadata": {},
   "outputs": [],
   "source": [
    "from nltk.stem import PorterStemmer\n",
    "from nltk.stem.snowball import SnowballStemmer\n",
    "from nltk.tokenize import sent_tokenize, word_tokenize\n",
    "import pandas as pd\n",
    "df = pd.read_csv(\"fake_or_real_news.csv\")\n",
    "    \n",
    "# Inspect shape of `df` \n",
    "print(df.shape)\n",
    "\n",
    "# Print first lines of `df` \n",
    "print(df.head())\n",
    "stemmer = SnowballStemmer(\"english\", ignore_stopwords=True)\n",
    "#     stemmer = PorterStemmer()\n",
    "def do_stemming_single_doc(text):\n",
    "    words = word_tokenize(text)\n",
    "    ret = \"\";\n",
    "    for w in words:\n",
    "        ret = ret + \" \" + stemmer.stem(w)\n",
    "#         print(stemmer.stem(w))\n",
    "    return ret\n",
    "    \n",
    "# text = \"It is important to by very pythonly while you are pythoning with python. All pythoners have pythoned poorly at least once.\"\n",
    "# text = \"gaming, the gamers play games\"\n",
    "text = 'make makes making maker'\n",
    "mod = do_stemming_single_doc(text)\n",
    "print(mod)"
   ]
  },
  {
   "cell_type": "code",
   "execution_count": null,
   "metadata": {},
   "outputs": [],
   "source": [
    "import matplotlib.pyplot as plt\n",
    "from sklearn.model_selection import train_test_split\n",
    "from sklearn.feature_extraction.text import TfidfVectorizer, CountVectorizer\n",
    "\n",
    "X_train, X_test, y_train, y_test = train_test_split(news, verdict, test_size=0.33, random_state=53)"
   ]
  },
  {
   "cell_type": "code",
   "execution_count": null,
   "metadata": {},
   "outputs": [],
   "source": [
    "count_vectorizer = CountVectorizer(stop_words='english')\n",
    "count_train = count_vectorizer.fit_transform(X_train) \n",
    "count_test = count_vectorizer.transform(X_test)\n",
    "tfidf_vectorizer = TfidfVectorizer(stop_words='english', max_df=0.7) \n",
    "tfidf_train = tfidf_vectorizer.fit_transform(X_train) \n",
    "tfidf_test = tfidf_vectorizer.transform(X_test)\n",
    "print(tfidf_vectorizer.get_feature_names()[-10:])\n",
    "print(count_vectorizer.get_feature_names()[900:910])\n",
    "\n",
    "feature_arr = tfidf_vectorizer.get_feature_names()\n",
    "for i in range(10):\n",
    "    val = tfidf_vectorizer.vocabulary_[feature_arr[i]]\n",
    "    print(feature_arr[i] , \" ----> \" , val)\n",
    "print(tfidf_vectorizer)"
   ]
  }
 ],
 "metadata": {
  "kernelspec": {
   "display_name": "Python 2",
   "language": "python",
   "name": "python2"
  },
  "language_info": {
   "codemirror_mode": {
    "name": "ipython",
    "version": 2
   },
   "file_extension": ".py",
   "mimetype": "text/x-python",
   "name": "python",
   "nbconvert_exporter": "python",
   "pygments_lexer": "ipython2",
   "version": "2.7.14"
  }
 },
 "nbformat": 4,
 "nbformat_minor": 2
}
